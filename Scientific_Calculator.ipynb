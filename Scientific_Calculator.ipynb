{
  "nbformat": 4,
  "nbformat_minor": 0,
  "metadata": {
    "colab": {
      "provenance": []
    },
    "kernelspec": {
      "name": "python3",
      "display_name": "Python 3"
    },
    "language_info": {
      "name": "python"
    }
  },
  "cells": [
    {
      "cell_type": "code",
      "execution_count": null,
      "metadata": {
        "id": "kEr-ZtVCrTVY"
      },
      "outputs": [],
      "source": []
    },
    {
      "cell_type": "markdown",
      "source": [
        "_Scientific Calculator_"
      ],
      "metadata": {
        "id": "iWR-xDBztcBm"
      }
    },
    {
      "cell_type": "code",
      "source": [
        "import math\n",
        "\n",
        "def add(x, y):\n",
        "    return x + y\n",
        "\n",
        "def subtract(x, y):\n",
        "    return x - y\n",
        "\n",
        "def multiply(x, y):\n",
        "    return x * y\n",
        "\n",
        "def divide(x, y):\n",
        "    if y != 0:\n",
        "        return x / y\n",
        "    else:\n",
        "        return \"Error: Cannot divide by zero\"\n",
        "\n",
        "def square_root(x):\n",
        "    if x >= 0:\n",
        "        return math.sqrt(x)\n",
        "    else:\n",
        "        return \"Error: Cannot calculate square root of a negative number\"\n",
        "\n",
        "def power(x, y):\n",
        "    return x ** y\n",
        "\n",
        "# Main program\n",
        "while True:\n",
        "    print(\"\\nSelect operation:\")\n",
        "    print(\"1. Add\")\n",
        "    print(\"2. Subtract\")\n",
        "    print(\"3. Multiply\")\n",
        "    print(\"4. Divide\")\n",
        "    print(\"5. Square Root\")\n",
        "    print(\"6. Power\")\n",
        "    print(\"7. Quit\")\n",
        "\n",
        "    choice = input(\"Enter choice (1/2/3/4/5/6/7): \")\n",
        "\n",
        "    if choice in ['5', '6']:\n",
        "        num1 = float(input(\"Enter number: \"))\n",
        "    else:\n",
        "        num1 = float(input(\"Enter first number: \"))\n",
        "        num2 = float(input(\"Enter second number: \"))\n",
        "\n",
        "    if choice == '1':\n",
        "        print(f\"{num1} + {num2} = {add(num1, num2)}\")\n",
        "    elif choice == '2':\n",
        "        print(f\"{num1} - {num2} = {subtract(num1, num2)}\")\n",
        "    elif choice == '3':\n",
        "        print(f\"{num1} * {num2} = {multiply(num1, num2)}\")\n",
        "    elif choice == '4':\n",
        "        print(f\"{num1} / {num2} = {divide(num1, num2)}\")\n",
        "    elif choice == '5':\n",
        "        print(f\"Square root of {num1} = {square_root(num1)}\")\n",
        "    elif choice == '6':\n",
        "        power_exp = float(input(\"Enter the exponent: \"))\n",
        "        print(f\"{num1} ^ {power_exp} = {power(num1, power_exp)}\")\n",
        "    elif choice == '7':\n",
        "        print(\"Exiting the calculator. Goodbye!\")\n",
        "        break\n",
        "    else:\n",
        "        print(\"Invalid input. Please enter a valid choice.\")\n"
      ],
      "metadata": {
        "colab": {
          "base_uri": "https://localhost:8080/"
        },
        "id": "_rKCO7PItsBS",
        "outputId": "d8cdeae8-9e74-4630-9eb7-b2c93811cc1a"
      },
      "execution_count": null,
      "outputs": [
        {
          "metadata": {
            "tags": null
          },
          "name": "stdout",
          "output_type": "stream",
          "text": [
            "\n",
            "Select operation:\n",
            "1. Add\n",
            "2. Subtract\n",
            "3. Multiply\n",
            "4. Divide\n",
            "5. Square Root\n",
            "6. Power\n",
            "7. Quit\n"
          ]
        }
      ]
    }
  ]
}