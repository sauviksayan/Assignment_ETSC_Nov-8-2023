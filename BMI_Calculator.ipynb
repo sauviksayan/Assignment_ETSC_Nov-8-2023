{
  "nbformat": 4,
  "nbformat_minor": 0,
  "metadata": {
    "colab": {
      "provenance": []
    },
    "kernelspec": {
      "name": "python3",
      "display_name": "Python 3"
    },
    "language_info": {
      "name": "python"
    }
  },
  "cells": [
    {
      "cell_type": "markdown",
      "source": [
        "_Body Mass Index_"
      ],
      "metadata": {
        "id": "q23iFNPm-qw1"
      }
    },
    {
      "cell_type": "code",
      "source": [
        "def calculate_bmi(weight, height):\n",
        "    # BMI Formula: weight (kg) / (height (m) ^ 2)\n",
        "    bmi = weight / (height ** 2)\n",
        "    return bmi\n",
        "\n",
        "def interpret_bmi(bmi):\n",
        "    if bmi < 18.5:\n",
        "        return \"Underweight\"\n",
        "    elif 18.5 <= bmi < 25:\n",
        "        return \"Normal weight\"\n",
        "    elif 25 <= bmi < 30:\n",
        "        return \"Overweight\"\n",
        "    else:\n",
        "        return \"Obese\"\n",
        "\n",
        "if __name__ == \"__main__\":\n",
        "    # Get user input for weight and height\n",
        "    weight = float(input(\"Enter your weight in kilograms: \"))\n",
        "    height = float(input(\"Enter your height in meters: \"))\n",
        "\n",
        "    # Calculate BMI\n",
        "    bmi = calculate_bmi(weight, height)\n",
        "\n",
        "    # Interpret BMI\n",
        "    bmi_category = interpret_bmi(bmi)\n",
        "\n",
        "    # Display results\n",
        "    print(f\"Your BMI is: {bmi:.2f}\")\n",
        "    print(f\"You are categorized as: {bmi_category}\")\n"
      ],
      "metadata": {
        "colab": {
          "base_uri": "https://localhost:8080/"
        },
        "id": "aK-NvDGT-tAz",
        "outputId": "1baa9f55-e4b7-4459-8673-3249984ac5f7"
      },
      "execution_count": 1,
      "outputs": [
        {
          "output_type": "stream",
          "name": "stdout",
          "text": [
            "Enter your weight in kilograms: 62\n",
            "Enter your height in meters: 1.8\n",
            "Your BMI is: 19.14\n",
            "You are categorized as: Normal weight\n"
          ]
        }
      ]
    }
  ]
}