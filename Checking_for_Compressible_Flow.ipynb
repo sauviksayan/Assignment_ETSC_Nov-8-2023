{
  "nbformat": 4,
  "nbformat_minor": 0,
  "metadata": {
    "colab": {
      "provenance": []
    },
    "kernelspec": {
      "name": "python3",
      "display_name": "Python 3"
    },
    "language_info": {
      "name": "python"
    }
  },
  "cells": [
    {
      "cell_type": "markdown",
      "source": [
        "_Checking for Compressible Flow_"
      ],
      "metadata": {
        "id": "WaxvbRemCsX6"
      }
    },
    {
      "cell_type": "code",
      "source": [
        "def is_compressible(flow_velocity, speed_of_sound):\n",
        "    # Calculate the Mach number\n",
        "    mach_number = flow_velocity / speed_of_sound\n",
        "\n",
        "    # Define a threshold for compressibility (e.g., 0.3)\n",
        "    compressibility_threshold = 0.3\n",
        "\n",
        "    # Check if the Mach number exceeds the compressibility threshold\n",
        "    return mach_number > compressibility_threshold\n",
        "\n",
        "if __name__ == \"__main__\":\n",
        "    # Get user input for flow velocity and speed of sound\n",
        "    flow_velocity = float(input(\"Enter the flow velocity (m/s): \"))\n",
        "    speed_of_sound = float(input(\"Enter the speed of sound (m/s): \"))\n",
        "\n",
        "    # Check if the flow is compressible\n",
        "    if is_compressible(flow_velocity, speed_of_sound):\n",
        "        print(\"The flow is compressible.\")\n",
        "    else:\n",
        "        print(\"The flow is incompressible.\")\n"
      ],
      "metadata": {
        "colab": {
          "base_uri": "https://localhost:8080/"
        },
        "id": "5h6ox_2UDcmJ",
        "outputId": "8b399b33-4b21-406c-a338-9d381abed705"
      },
      "execution_count": 5,
      "outputs": [
        {
          "output_type": "stream",
          "name": "stdout",
          "text": [
            "Enter the flow velocity (m/s): 200\n",
            "Enter the speed of sound (m/s): 340\n",
            "The flow is compressible.\n"
          ]
        }
      ]
    }
  ]
}