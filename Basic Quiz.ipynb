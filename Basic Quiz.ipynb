{
  "nbformat": 4,
  "nbformat_minor": 0,
  "metadata": {
    "colab": {
      "provenance": []
    },
    "kernelspec": {
      "name": "python3",
      "display_name": "Python 3"
    },
    "language_info": {
      "name": "python"
    }
  },
  "cells": [
    {
      "cell_type": "markdown",
      "source": [
        "_Quiz_"
      ],
      "metadata": {
        "id": "sZqblaAr8xIa"
      }
    },
    {
      "cell_type": "code",
      "source": [
        "import random\n",
        "\n",
        "def run_quiz(questions):\n",
        "    score = 0\n",
        "    random.shuffle(questions)\n",
        "\n",
        "    for question in questions:\n",
        "        print(question['question'])\n",
        "        for i, choice in enumerate(question['choices'], start=1):\n",
        "            print(f\"{i}. {choice}\")\n",
        "\n",
        "        user_answer = input(\"Enter the number of your answer: \")\n",
        "        if user_answer.isdigit() and 1 <= int(user_answer) <= len(question['choices']):\n",
        "            user_answer = int(user_answer)\n",
        "            if question['answer'] == user_answer:\n",
        "                print(\"Correct!\\n\")\n",
        "                score += 1\n",
        "            else:\n",
        "                print(f\"Wrong! The correct answer is {question['answer']}: {question['choices'][question['answer'] - 1]}\\n\")\n",
        "        else:\n",
        "            print(\"Invalid input. Please enter a number corresponding to your answer choice.\\n\")\n",
        "\n",
        "    print(f\"Quiz completed! Your score: {score}/{len(questions)}\")\n",
        "\n",
        "if __name__ == \"__main__\":\n",
        "    # Sample quiz questions\n",
        "    quiz_questions = [\n",
        "        {\n",
        "            'question': 'What is the capital of India?',\n",
        "            'choices': ['Lucknow', 'Patna', 'Delhi'],\n",
        "            'answer': 2,\n",
        "        },\n",
        "        {\n",
        "            'question': 'Which planet is known as the Red Planet?',\n",
        "            'choices': ['Mars', 'Venus', 'Jupiter'],\n",
        "            'answer': 1,\n",
        "        },\n",
        "        {\n",
        "            'question': 'What is the largest mammal in the world?',\n",
        "            'choices': ['Elephant', 'Blue Whale', 'Giraffe'],\n",
        "            'answer': 2,\n",
        "        },\n",
        "    ]\n",
        "\n",
        "    run_quiz(quiz_questions)\n"
      ],
      "metadata": {
        "colab": {
          "base_uri": "https://localhost:8080/"
        },
        "id": "z_EJJoG381C_",
        "outputId": "caae45e6-d95b-4b84-a95e-342bbdfba4d3"
      },
      "execution_count": 1,
      "outputs": [
        {
          "output_type": "stream",
          "name": "stdout",
          "text": [
            "What is the capital of India?\n",
            "1. Lucknow\n",
            "2. Patna\n",
            "3. Delhi\n",
            "Enter the number of your answer: Delhi\n",
            "Invalid input. Please enter a number corresponding to your answer choice.\n",
            "\n",
            "Which planet is known as the Red Planet?\n",
            "1. Mars\n",
            "2. Venus\n",
            "3. Jupiter\n",
            "Enter the number of your answer: 1\n",
            "Correct!\n",
            "\n",
            "What is the largest mammal in the world?\n",
            "1. Elephant\n",
            "2. Blue Whale\n",
            "3. Giraffe\n",
            "Enter the number of your answer: 2\n",
            "Correct!\n",
            "\n",
            "Quiz completed! Your score: 2/3\n"
          ]
        }
      ]
    }
  ]
}